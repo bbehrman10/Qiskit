{
 "cells": [
  {
   "cell_type": "code",
   "execution_count": 1,
   "metadata": {},
   "outputs": [],
   "source": [
    "# importing all of the libaries from Qiskit as well as viz tools\n",
    "from qiskit import *\n",
    "from qiskit.visualization import plot_histogram\n",
    "%matplotlib inline"
   ]
  },
  {
   "cell_type": "code",
   "execution_count": 23,
   "metadata": {},
   "outputs": [
    {
     "data": {
      "text/plain": [
       "<qiskit.circuit.instructionset.InstructionSet at 0x7f863003b0d0>"
      ]
     },
     "execution_count": 23,
     "metadata": {},
     "output_type": "execute_result"
    }
   ],
   "source": [
    "# making our circuit with 3 qubits and 3 classical bits\n",
    "# we will teleport information from q0 to q2\n",
    "\n",
    "circuit = QuantumCircuit(3,3)\n",
    "\n",
    "# teleporting output of hadamard gate\n",
    "circuit.h(0)\n",
    "circuit.barrier()\n",
    "\n",
    "# entangling states between q1 and q2\n",
    "circuit.h(1)\n",
    "circuit.cx(1,2)\n",
    "circuit.barrier()\n",
    "\n",
    "# applying CNOT on q1\n",
    "circuit.cx(0,1)\n",
    "\n",
    "# appplying hadamard on q0\n",
    "circuit.h(0)\n",
    "\n",
    "# measure q0 and q1\n",
    "circuit.measure([0,1],[0,1])\n",
    "circuit.barrier()\n",
    "\n",
    "# applying X and Z gates\n",
    "circuit.cx(1,2)\n",
    "circuit.cz(0,2)\n",
    "\n",
    "# q0 is now teleported\n",
    "circuit.measure(2,2)"
   ]
  },
  {
   "cell_type": "code",
   "execution_count": 24,
   "metadata": {},
   "outputs": [
    {
     "data": {
      "text/html": [
       "<pre style=\"word-wrap: normal;white-space: pre;background: #fff0;line-height: 1.1;font-family: &quot;Courier New&quot;,Courier,monospace\">     ┌───┐ ░            ░      ┌───┐┌─┐ ░            \n",
       "q_0: ┤ H ├─░────────────░───■──┤ H ├┤M├─░───────■────\n",
       "     └───┘ ░ ┌───┐      ░ ┌─┴─┐└┬─┬┘└╥┘ ░       │    \n",
       "q_1: ──────░─┤ H ├──■───░─┤ X ├─┤M├──╫──░───■───┼────\n",
       "           ░ └───┘┌─┴─┐ ░ └───┘ └╥┘  ║  ░ ┌─┴─┐ │ ┌─┐\n",
       "q_2: ──────░──────┤ X ├─░────────╫───╫──░─┤ X ├─■─┤M├\n",
       "           ░      └───┘ ░        ║   ║  ░ └───┘   └╥┘\n",
       "c: 3/════════════════════════════╩═══╩═════════════╩═\n",
       "                                 1   0             2 </pre>"
      ],
      "text/plain": [
       "     ┌───┐ ░            ░      ┌───┐┌─┐ ░            \n",
       "q_0: ┤ H ├─░────────────░───■──┤ H ├┤M├─░───────■────\n",
       "     └───┘ ░ ┌───┐      ░ ┌─┴─┐└┬─┬┘└╥┘ ░       │    \n",
       "q_1: ──────░─┤ H ├──■───░─┤ X ├─┤M├──╫──░───■───┼────\n",
       "           ░ └───┘┌─┴─┐ ░ └───┘ └╥┘  ║  ░ ┌─┴─┐ │ ┌─┐\n",
       "q_2: ──────░──────┤ X ├─░────────╫───╫──░─┤ X ├─■─┤M├\n",
       "           ░      └───┘ ░        ║   ║  ░ └───┘   └╥┘\n",
       "c: 3/════════════════════════════╩═══╩═════════════╩═\n",
       "                                 1   0             2 "
      ]
     },
     "execution_count": 24,
     "metadata": {},
     "output_type": "execute_result"
    }
   ],
   "source": [
    "circuit.draw()\n"
   ]
  },
  {
   "cell_type": "code",
   "execution_count": 27,
   "metadata": {},
   "outputs": [],
   "source": [
    "# now to simlulate this with qasm\n",
    "backend = Aer.get_backend('qasm_simulator')\n",
    "simulator = execute(circuit, backend, shots=1024)\n",
    "\n",
    "# store the results\n",
    "results = simulator.result()"
   ]
  },
  {
   "cell_type": "code",
   "execution_count": 30,
   "metadata": {},
   "outputs": [
    {
     "name": "stdout",
     "output_type": "stream",
     "text": [
      "{'000': 135, '001': 128, '010': 114, '011': 133, '100': 119, '101': 120, '110': 138, '111': 137}\n"
     ]
    },
    {
     "data": {
      "image/png": "[encoded data removed]",
      "text/plain": [
       "<Figure size 504x360 with 1 Axes>"
      ]
     },
     "execution_count": 30,
     "metadata": {},
     "output_type": "execute_result"
    }
   ],
   "source": [
    "# counting the frequencies of the possible states\n",
    "counts = results.get_counts(circuit)\n",
    "print(counts)\n",
    "plot_histogram(counts)"
   ]
  },
  {
   "cell_type": "code",
   "execution_count": null,
   "metadata": {},
   "outputs": [],
   "source": []
  }
 ],
 "metadata": {
  "kernelspec": {
   "display_name": "Python 3",
   "language": "python",
   "name": "python3"
  },
  "language_info": {
   "codemirror_mode": {
    "name": "ipython",
    "version": 3
   },
   "file_extension": ".py",
   "mimetype": "text/x-python",
   "name": "python",
   "nbconvert_exporter": "python",
   "pygments_lexer": "ipython3",
   "version": "3.8.5"
  }
 },
 "nbformat": 4,
 "nbformat_minor": 4
}
