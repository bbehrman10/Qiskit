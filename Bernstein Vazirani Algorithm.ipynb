{
 "cells": [
  {
   "cell_type": "code",
   "execution_count": 1,
   "metadata": {},
   "outputs": [],
   "source": [
    "from qiskit import *\n",
    "%matplotlib inline\n",
    "from qiskit.tools.visualization import plot_histogram"
   ]
  },
  {
   "cell_type": "code",
   "execution_count": 21,
   "metadata": {},
   "outputs": [],
   "source": [
    "secretnumber = '101001'"
   ]
  },
  {
   "cell_type": "code",
   "execution_count": 3,
   "metadata": {},
   "outputs": [
    {
     "data": {
      "text/plain": [
       "<qiskit.circuit.instructionset.InstructionSet at 0x7fc5ec9583d0>"
      ]
     },
     "execution_count": 3,
     "metadata": {},
     "output_type": "execute_result"
    }
   ],
   "source": [
    "circuit = QuantumCircuit(6+1, 6)\n",
    "\n",
    "circuit.h([0,1,2,3,4,5])\n",
    "circuit.x(6)\n",
    "circuit.h(6)\n",
    "\n",
    "circuit.barrier()\n",
    "\n",
    "circuit.cx(5,6)\n",
    "circuit.cx(3,6)\n",
    "circuit.cx(0,6)\n",
    "\n",
    "circuit.barrier()\n",
    "circuit.h([0,1,2,3,4,5])\n",
    "circuit.barrier()\n",
    "\n",
    "circuit.measure([0,1,2,3,4,5], [0,1,2,3,4,5])"
   ]
  },
  {
   "cell_type": "code",
   "execution_count": 4,
   "metadata": {},
   "outputs": [
    {
     "data": {
      "text/html": [
       "<pre style=\"word-wrap: normal;white-space: pre;background: #fff0;line-height: 1.1;font-family: &quot;Courier New&quot;,Courier,monospace\">     ┌───┐      ░                 ░ ┌───┐ ░ ┌─┐               \n",
       "q_0: ┤ H ├──────░─────────────■───░─┤ H ├─░─┤M├───────────────\n",
       "     ├───┤      ░             │   ░ ├───┤ ░ └╥┘┌─┐            \n",
       "q_1: ┤ H ├──────░─────────────┼───░─┤ H ├─░──╫─┤M├────────────\n",
       "     ├───┤      ░             │   ░ ├───┤ ░  ║ └╥┘┌─┐         \n",
       "q_2: ┤ H ├──────░─────────────┼───░─┤ H ├─░──╫──╫─┤M├─────────\n",
       "     ├───┤      ░             │   ░ ├───┤ ░  ║  ║ └╥┘┌─┐      \n",
       "q_3: ┤ H ├──────░────────■────┼───░─┤ H ├─░──╫──╫──╫─┤M├──────\n",
       "     ├───┤      ░        │    │   ░ ├───┤ ░  ║  ║  ║ └╥┘┌─┐   \n",
       "q_4: ┤ H ├──────░────────┼────┼───░─┤ H ├─░──╫──╫──╫──╫─┤M├───\n",
       "     ├───┤      ░        │    │   ░ ├───┤ ░  ║  ║  ║  ║ └╥┘┌─┐\n",
       "q_5: ┤ H ├──────░───■────┼────┼───░─┤ H ├─░──╫──╫──╫──╫──╫─┤M├\n",
       "     ├───┤┌───┐ ░ ┌─┴─┐┌─┴─┐┌─┴─┐ ░ └───┘ ░  ║  ║  ║  ║  ║ └╥┘\n",
       "q_6: ┤ X ├┤ H ├─░─┤ X ├┤ X ├┤ X ├─░───────░──╫──╫──╫──╫──╫──╫─\n",
       "     └───┘└───┘ ░ └───┘└───┘└───┘ ░       ░  ║  ║  ║  ║  ║  ║ \n",
       "c: 6/════════════════════════════════════════╩══╩══╩══╩══╩══╩═\n",
       "                                             0  1  2  3  4  5 </pre>"
      ],
      "text/plain": [
       "     ┌───┐      ░                 ░ ┌───┐ ░ ┌─┐               \n",
       "q_0: ┤ H ├──────░─────────────■───░─┤ H ├─░─┤M├───────────────\n",
       "     ├───┤      ░             │   ░ ├───┤ ░ └╥┘┌─┐            \n",
       "q_1: ┤ H ├──────░─────────────┼───░─┤ H ├─░──╫─┤M├────────────\n",
       "     ├───┤      ░             │   ░ ├───┤ ░  ║ └╥┘┌─┐         \n",
       "q_2: ┤ H ├──────░─────────────┼───░─┤ H ├─░──╫──╫─┤M├─────────\n",
       "     ├───┤      ░             │   ░ ├───┤ ░  ║  ║ └╥┘┌─┐      \n",
       "q_3: ┤ H ├──────░────────■────┼───░─┤ H ├─░──╫──╫──╫─┤M├──────\n",
       "     ├───┤      ░        │    │   ░ ├───┤ ░  ║  ║  ║ └╥┘┌─┐   \n",
       "q_4: ┤ H ├──────░────────┼────┼───░─┤ H ├─░──╫──╫──╫──╫─┤M├───\n",
       "     ├───┤      ░        │    │   ░ ├───┤ ░  ║  ║  ║  ║ └╥┘┌─┐\n",
       "q_5: ┤ H ├──────░───■────┼────┼───░─┤ H ├─░──╫──╫──╫──╫──╫─┤M├\n",
       "     ├───┤┌───┐ ░ ┌─┴─┐┌─┴─┐┌─┴─┐ ░ └───┘ ░  ║  ║  ║  ║  ║ └╥┘\n",
       "q_6: ┤ X ├┤ H ├─░─┤ X ├┤ X ├┤ X ├─░───────░──╫──╫──╫──╫──╫──╫─\n",
       "     └───┘└───┘ ░ └───┘└───┘└───┘ ░       ░  ║  ║  ║  ║  ║  ║ \n",
       "c: 6/════════════════════════════════════════╩══╩══╩══╩══╩══╩═\n",
       "                                             0  1  2  3  4  5 "
      ]
     },
     "execution_count": 4,
     "metadata": {},
     "output_type": "execute_result"
    }
   ],
   "source": [
    "circuit.draw()"
   ]
  },
  {
   "cell_type": "code",
   "execution_count": 5,
   "metadata": {},
   "outputs": [
    {
     "name": "stdout",
     "output_type": "stream",
     "text": [
      "{'101001': 1}\n"
     ]
    }
   ],
   "source": [
    "simulator = Aer.get_backend('qasm_simulator')\n",
    "results = execute(circuit, backend = simulator, shots = 1).result()\n",
    "counts = results.get_counts()\n",
    "print(counts)"
   ]
  },
  {
   "cell_type": "code",
   "execution_count": 22,
   "metadata": {},
   "outputs": [
    {
     "data": {
      "text/plain": [
       "<qiskit.circuit.instructionset.InstructionSet at 0x7fc5a80c6400>"
      ]
     },
     "execution_count": 22,
     "metadata": {},
     "output_type": "execute_result"
    }
   ],
   "source": [
    "circuit2 = QuantumCircuit(len(secretnumber)+1, len(secretnumber))\n",
    "\n",
    "circuit2.h(range(len(secretnumber)))\n",
    "circuit2.x(len(secretnumber))\n",
    "circuit2.h(len(secretnumber))\n",
    "\n",
    "circuit2.barrier()\n",
    "\n",
    "for ii, yesno in enumerate(reversed(secretnumber)):\n",
    "    if yesno == '1':\n",
    "        circuit2.cx(ii, len(secretnumber))\n",
    "        \n",
    "circuit2.barrier()\n",
    "\n",
    "circuit2.h(range(len(secretnumber)))\n",
    "circuit2.barrier()\n",
    "circuit2.measure(range(len(secretnumber)), range(len(secretnumber)))"
   ]
  },
  {
   "cell_type": "code",
   "execution_count": 23,
   "metadata": {},
   "outputs": [
    {
     "data": {
      "text/html": [
       "<pre style=\"word-wrap: normal;white-space: pre;background: #fff0;line-height: 1.1;font-family: &quot;Courier New&quot;,Courier,monospace\">     ┌───┐      ░                 ░ ┌───┐ ░ ┌─┐               \n",
       "q_0: ┤ H ├──────░───■─────────────░─┤ H ├─░─┤M├───────────────\n",
       "     ├───┤      ░   │             ░ ├───┤ ░ └╥┘┌─┐            \n",
       "q_1: ┤ H ├──────░───┼─────────────░─┤ H ├─░──╫─┤M├────────────\n",
       "     ├───┤      ░   │             ░ ├───┤ ░  ║ └╥┘┌─┐         \n",
       "q_2: ┤ H ├──────░───┼─────────────░─┤ H ├─░──╫──╫─┤M├─────────\n",
       "     ├───┤      ░   │             ░ ├───┤ ░  ║  ║ └╥┘┌─┐      \n",
       "q_3: ┤ H ├──────░───┼────■────────░─┤ H ├─░──╫──╫──╫─┤M├──────\n",
       "     ├───┤      ░   │    │        ░ ├───┤ ░  ║  ║  ║ └╥┘┌─┐   \n",
       "q_4: ┤ H ├──────░───┼────┼────────░─┤ H ├─░──╫──╫──╫──╫─┤M├───\n",
       "     ├───┤      ░   │    │        ░ ├───┤ ░  ║  ║  ║  ║ └╥┘┌─┐\n",
       "q_5: ┤ H ├──────░───┼────┼────■───░─┤ H ├─░──╫──╫──╫──╫──╫─┤M├\n",
       "     ├───┤┌───┐ ░ ┌─┴─┐┌─┴─┐┌─┴─┐ ░ └───┘ ░  ║  ║  ║  ║  ║ └╥┘\n",
       "q_6: ┤ X ├┤ H ├─░─┤ X ├┤ X ├┤ X ├─░───────░──╫──╫──╫──╫──╫──╫─\n",
       "     └───┘└───┘ ░ └───┘└───┘└───┘ ░       ░  ║  ║  ║  ║  ║  ║ \n",
       "c: 6/════════════════════════════════════════╩══╩══╩══╩══╩══╩═\n",
       "                                             0  1  2  3  4  5 </pre>"
      ],
      "text/plain": [
       "     ┌───┐      ░                 ░ ┌───┐ ░ ┌─┐               \n",
       "q_0: ┤ H ├──────░───■─────────────░─┤ H ├─░─┤M├───────────────\n",
       "     ├───┤      ░   │             ░ ├───┤ ░ └╥┘┌─┐            \n",
       "q_1: ┤ H ├──────░───┼─────────────░─┤ H ├─░──╫─┤M├────────────\n",
       "     ├───┤      ░   │             ░ ├───┤ ░  ║ └╥┘┌─┐         \n",
       "q_2: ┤ H ├──────░───┼─────────────░─┤ H ├─░──╫──╫─┤M├─────────\n",
       "     ├───┤      ░   │             ░ ├───┤ ░  ║  ║ └╥┘┌─┐      \n",
       "q_3: ┤ H ├──────░───┼────■────────░─┤ H ├─░──╫──╫──╫─┤M├──────\n",
       "     ├───┤      ░   │    │        ░ ├───┤ ░  ║  ║  ║ └╥┘┌─┐   \n",
       "q_4: ┤ H ├──────░───┼────┼────────░─┤ H ├─░──╫──╫──╫──╫─┤M├───\n",
       "     ├───┤      ░   │    │        ░ ├───┤ ░  ║  ║  ║  ║ └╥┘┌─┐\n",
       "q_5: ┤ H ├──────░───┼────┼────■───░─┤ H ├─░──╫──╫──╫──╫──╫─┤M├\n",
       "     ├───┤┌───┐ ░ ┌─┴─┐┌─┴─┐┌─┴─┐ ░ └───┘ ░  ║  ║  ║  ║  ║ └╥┘\n",
       "q_6: ┤ X ├┤ H ├─░─┤ X ├┤ X ├┤ X ├─░───────░──╫──╫──╫──╫──╫──╫─\n",
       "     └───┘└───┘ ░ └───┘└───┘└───┘ ░       ░  ║  ║  ║  ║  ║  ║ \n",
       "c: 6/════════════════════════════════════════╩══╩══╩══╩══╩══╩═\n",
       "                                             0  1  2  3  4  5 "
      ]
     },
     "execution_count": 23,
     "metadata": {},
     "output_type": "execute_result"
    }
   ],
   "source": [
    "circuit2.draw()"
   ]
  },
  {
   "cell_type": "code",
   "execution_count": null,
   "metadata": {},
   "outputs": [],
   "source": []
  },
  {
   "cell_type": "code",
   "execution_count": null,
   "metadata": {},
   "outputs": [],
   "source": []
  }
 ],
 "metadata": {
  "kernelspec": {
   "display_name": "Python 3",
   "language": "python",
   "name": "python3"
  },
  "language_info": {
   "codemirror_mode": {
    "name": "ipython",
    "version": 3
   },
   "file_extension": ".py",
   "mimetype": "text/x-python",
   "name": "python",
   "nbconvert_exporter": "python",
   "pygments_lexer": "ipython3",
   "version": "3.8.5"
  }
 },
 "nbformat": 4,
 "nbformat_minor": 4
}
